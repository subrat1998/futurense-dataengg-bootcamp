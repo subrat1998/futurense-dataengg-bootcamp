{
 "cells": [
  {
   "cell_type": "code",
   "execution_count": 1,
   "metadata": {
    "application/vnd.databricks.v1+cell": {
     "cellMetadata": {
      "byteLimit": 2048000,
      "rowLimit": 10000
     },
     "inputWidgets": {},
     "nuid": "b5f00707-007c-435b-9438-19498a118562",
     "showTitle": false,
     "title": ""
    }
   },
   "outputs": [],
   "source": [
    "from pyspark.sql import *"
   ]
  },
  {
   "cell_type": "code",
   "execution_count": null,
   "metadata": {
    "application/vnd.databricks.v1+cell": {
     "cellMetadata": {
      "byteLimit": 2048000,
      "rowLimit": 10000
     },
     "inputWidgets": {},
     "nuid": "ea6be3ed-3eea-41a8-ad6f-68302b05aaaf",
     "showTitle": false,
     "title": ""
    }
   },
   "outputs": [],
   "source": [
    "df=spark.read.csv(\"/FileStore/tables/disney_processed_file.csv\",header=True,inferSchema=True)\n",
    "df=df.na.drop()"
   ]
  },
  {
   "cell_type": "code",
   "execution_count": null,
   "metadata": {
    "application/vnd.databricks.v1+cell": {
     "cellMetadata": {
      "byteLimit": 2048000,
      "rowLimit": 10000
     },
     "inputWidgets": {},
     "nuid": "ee3da5b5-faf5-4082-bf07-296cc252486f",
     "showTitle": false,
     "title": ""
    }
   },
   "outputs": [],
   "source": [
    "df.createOrReplaceTempView(\"disney\")"
   ]
  },
  {
   "cell_type": "code",
   "execution_count": null,
   "metadata": {
    "application/vnd.databricks.v1+cell": {
     "cellMetadata": {
      "byteLimit": 2048000,
      "rowLimit": 10000
     },
     "inputWidgets": {},
     "nuid": "f08d90bc-95fe-44ea-9d5a-ef873adfb053",
     "showTitle": false,
     "title": ""
    }
   },
   "outputs": [
    {
     "name": "stdout",
     "output_type": "stream",
     "text": [
      "+--------------------+----+--------------------+--------------------+------+------------+---------+---------------+\n",
      "|               title|  yr|            director|              awards| votes|release_year|Total_win|Total_Nominated|\n",
      "+--------------------+----+--------------------+--------------------+------+------------+---------+---------------+\n",
      "|10 Things I Hate ...|1999|          Gil Junger|2 wins & 13 nomin...|283945|        1999|        2|             13|\n",
      "|101 Dalmatian Street|2018|                 N/A|                 N/A|   124|        2019|        0|              0|\n",
      "|      101 Dalmatians|1996|       Stephen Herek|Nominated for 1 G...| 97785|        1996|        3|             10|\n",
      "|101 Dalmatians 2:...|2002|Jim Kammerud, Bri...|5 wins & 10 nomin...|  7434|        2003|        5|             10|\n",
      "|      102 Dalmatians|2000|          Kevin Lima|Nominated for 1 O...| 33444|        2000|        1|              8|\n",
      "+--------------------+----+--------------------+--------------------+------+------------+---------+---------------+\n",
      "only showing top 5 rows\n",
      "\n"
     ]
    }
   ],
   "source": [
    "df.show(5)"
   ]
  },
  {
   "cell_type": "markdown",
   "metadata": {
    "application/vnd.databricks.v1+cell": {
     "cellMetadata": {
      "byteLimit": 2048000,
      "rowLimit": 10000
     },
     "inputWidgets": {},
     "nuid": "f06b51f1-af96-4769-b394-2a03d31ee2bc",
     "showTitle": false,
     "title": ""
    }
   },
   "source": [
    "### Which director's movies has the highest votes? and for that director, which year he has the highest votes"
   ]
  },
  {
   "cell_type": "code",
   "execution_count": null,
   "metadata": {
    "application/vnd.databricks.v1+cell": {
     "cellMetadata": {
      "byteLimit": 2048000,
      "rowLimit": 10000
     },
     "inputWidgets": {},
     "nuid": "9642c523-fe76-4e36-8c85-d4177cb51504",
     "showTitle": false,
     "title": ""
    }
   },
   "outputs": [
    {
     "name": "stdout",
     "output_type": "stream",
     "text": [
      "+-----------+----+---------+\n",
      "|   director|  yr|    Votes|\n",
      "+-----------+----+---------+\n",
      "|Joss Whedon|2012|1225316.0|\n",
      "+-----------+----+---------+\n",
      "\n"
     ]
    }
   ],
   "source": [
    "votes=spark.sql(\"SELECT director, yr, sum(votes) AS Votes \" +\n",
    "   \"FROM disney \"  +\n",
    "   \"GROUP BY director, yr \"  +\n",
    "   \"ORDER BY Votes DESC \" +\n",
    "   \"LIMIT 1\" )\n",
    "votes.show()"
   ]
  },
  {
   "cell_type": "markdown",
   "metadata": {
    "application/vnd.databricks.v1+cell": {
     "cellMetadata": {
      "byteLimit": 2048000,
      "rowLimit": 10000
     },
     "inputWidgets": {},
     "nuid": "ee00c3d8-4487-425b-a634-b8665dfa4747",
     "showTitle": false,
     "title": ""
    }
   },
   "source": [
    "### Total number of movies released in 1999, by director wise"
   ]
  },
  {
   "cell_type": "code",
   "execution_count": null,
   "metadata": {
    "application/vnd.databricks.v1+cell": {
     "cellMetadata": {
      "byteLimit": 2048000,
      "rowLimit": 10000
     },
     "inputWidgets": {},
     "nuid": "c9544796-7fb8-41ee-ad0b-56c49b999470",
     "showTitle": false,
     "title": ""
    }
   },
   "outputs": [
    {
     "name": "stdout",
     "output_type": "stream",
     "text": [
      "+--------------------+----------+\n",
      "|            director|num_movies|\n",
      "+--------------------+----------+\n",
      "|     Kenneth Johnson|         2|\n",
      "|          Gil Junger|         1|\n",
      "|       Maurice Joyce|         1|\n",
      "|       David Kellogg|         1|\n",
      "|        LeVar Burton|         1|\n",
      "|Robert C. Ramirez...|         1|\n",
      "|          Rod Daniel|         1|\n",
      "|         David Lynch|         1|\n",
      "|         Steve Boyum|         1|\n",
      "|         Greg Beeman|         1|\n",
      "|      Duwayne Dunham|         1|\n",
      "|John Lasseter, As...|         1|\n",
      "|        Rob Marshall|         1|\n",
      "|      Paul Schneider|         1|\n",
      "|        George Lucas|         1|\n",
      "|Jun Falkenstein, ...|         1|\n",
      "|       Donald Petrie|         1|\n",
      "+--------------------+----------+\n",
      "\n"
     ]
    }
   ],
   "source": [
    "movie=spark.sql(\"SELECT director, COUNT(*) AS num_movies \" +\n",
    "  \"FROM disney \" +\n",
    "  \"WHERE release_year = 1999  AND director !='N/A'\" +\n",
    "  \"GROUP BY director \" +\n",
    "  \"ORDER BY num_movies DESC\")\n",
    "movie.show()"
   ]
  },
  {
   "cell_type": "markdown",
   "metadata": {
    "application/vnd.databricks.v1+cell": {
     "cellMetadata": {
      "byteLimit": 2048000,
      "rowLimit": 10000
     },
     "inputWidgets": {},
     "nuid": "7e043326-bca2-4fda-8a25-b6d4de134af1",
     "showTitle": false,
     "title": ""
    }
   },
   "source": [
    "### Which year movies got highest awards? And it belongs to which director"
   ]
  },
  {
   "cell_type": "code",
   "execution_count": null,
   "metadata": {
    "application/vnd.databricks.v1+cell": {
     "cellMetadata": {
      "byteLimit": 2048000,
      "rowLimit": 10000
     },
     "inputWidgets": {},
     "nuid": "03ab60eb-f595-4834-97af-8bab92c738e3",
     "showTitle": false,
     "title": ""
    }
   },
   "outputs": [
    {
     "name": "stdout",
     "output_type": "stream",
     "text": [
      "+----+------------+-------------+------------+\n",
      "|  yr|    director|        title|total_awards|\n",
      "+----+------------+-------------+------------+\n",
      "|2018|Ryan Coogler|Black Panther|         111|\n",
      "+----+------------+-------------+------------+\n",
      "\n"
     ]
    }
   ],
   "source": [
    "highestAwards = spark.sql(\"SELECT yr, director,title, sum(Total_win) AS total_awards \" +\n",
    "  \"FROM disney \" +\n",
    "  \"WHERE director !='N/A' \" +\n",
    "  \"GROUP BY yr, director,title \" +\n",
    "  \"ORDER BY total_awards DESC \" +\n",
    "  \"LIMIT 1\")\n",
    "\n",
    "highestAwards.show()"
   ]
  },
  {
   "cell_type": "markdown",
   "metadata": {
    "application/vnd.databricks.v1+cell": {
     "cellMetadata": {
      "byteLimit": 2048000,
      "rowLimit": 10000
     },
     "inputWidgets": {},
     "nuid": "48f34ae7-b13a-4896-8bfd-17482d1283da",
     "showTitle": false,
     "title": ""
    }
   },
   "source": [
    "### Total number of movies nominated for awards between 1998-2018"
   ]
  },
  {
   "cell_type": "code",
   "execution_count": null,
   "metadata": {
    "application/vnd.databricks.v1+cell": {
     "cellMetadata": {
      "byteLimit": 2048000,
      "rowLimit": 10000
     },
     "inputWidgets": {},
     "nuid": "ec88929c-b03f-4f3e-8f05-a3694fdaec59",
     "showTitle": false,
     "title": ""
    }
   },
   "outputs": [
    {
     "name": "stdout",
     "output_type": "stream",
     "text": [
      "+---------------+\n",
      "|num_nominations|\n",
      "+---------------+\n",
      "|            348|\n",
      "+---------------+\n",
      "\n"
     ]
    }
   ],
   "source": [
    "totalNominated = spark.sql(\"SELECT COUNT(Total_Nominated) AS num_nominations \" +\n",
    "  \"FROM disney \" +\n",
    "  \"WHERE yr BETWEEN 1998 AND 2018 AND Total_Nominated > 0\")\n",
    "\n",
    "totalNominated.show()"
   ]
  }
 ],
 "metadata": {
  "application/vnd.databricks.v1+notebook": {
   "dashboards": [],
   "language": "python",
   "notebookMetadata": {
    "pythonIndentUnit": 4
   },
   "notebookName": "Disney Spark_SQL Solution",
   "notebookOrigID": 3311674983005826,
   "widgets": {}
  },
  "kernelspec": {
   "display_name": "Python 3",
   "language": "python",
   "name": "python3"
  },
  "language_info": {
   "codemirror_mode": {
    "name": "ipython",
    "version": 3
   },
   "file_extension": ".py",
   "mimetype": "text/x-python",
   "name": "python",
   "nbconvert_exporter": "python",
   "pygments_lexer": "ipython3",
   "version": "3.11.1"
  },
  "vscode": {
   "interpreter": {
    "hash": "7f08b9e2aa8b1f3a0c7e138f815b0736ce9b1f014dca15c7572370a1d1336131"
   }
  }
 },
 "nbformat": 4,
 "nbformat_minor": 0
}
